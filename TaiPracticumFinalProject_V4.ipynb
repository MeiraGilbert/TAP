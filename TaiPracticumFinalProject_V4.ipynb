{
 "cells": [
  {
   "cell_type": "markdown",
   "id": "6bb51cf7",
   "metadata": {},
   "source": [
    "# Initial TAP Notebook Setup\n",
    "\n",
    "### Install the TAP Software Development Kit (SDK) to use TAP Trustworthy AI (TAI) and Toolkit modules for implementing TAI methods and logging artifacts to the Tracking Server\n",
    "\n",
    "These are some of the base python packages that may require installation. \n",
    "\n",
    "- Go to 'File' and then 'New Launcher' and open a new terminal window\n",
    "- Copy the below command into a terminal window and run it (make sure to remove the '#'). \n",
    "- You will need your **personal access token** available to enter when prompted for your username. "
   ]
  },
  {
   "cell_type": "code",
   "execution_count": null,
   "id": "7390f86f",
   "metadata": {},
   "outputs": [],
   "source": [
    "# pip install git+https://github.com/Deloitte/tap-package.git --force-reinstall"
   ]
  },
  {
   "cell_type": "markdown",
   "id": "48015f9e",
   "metadata": {},
   "source": [
    "- when it prompted `Username for 'https://github.com':` enter your personal access token\n",
    "- when prompted for `Password for 'https://nanrahman@github.com':` leave it blank and press enter\n",
    "- refer to https://github.com/Deloitte/cfg-tap-docs#workspace-quickstart and 'Configure your Deloitte GitHub ID' on setting up access keys\n",
    "- **Note:** if you have already installed the package you will need to run the command: **pip uninstall tap**"
   ]
  },
  {
   "cell_type": "markdown",
   "id": "e754aa30",
   "metadata": {},
   "source": [
    "---"
   ]
  },
  {
   "cell_type": "markdown",
   "id": "fcd35b94",
   "metadata": {},
   "source": [
    "### Install base libraries\n",
    "\n",
    "Next run the following commands within this notebook (remove the '#') first."
   ]
  },
  {
   "cell_type": "code",
   "execution_count": null,
   "id": "806b96d5",
   "metadata": {},
   "outputs": [],
   "source": [
    "# !pip install imblearn\n",
    "# !pip install aif360\n",
    "# !pip install aif360[LFR]\n",
    "# !pip install diffprivlib\n",
    "# !pip install tensorflow\n",
    "# !pip install fairlearn\n",
    "# !pip install minio\n",
    "# !pip install mlflow\n",
    "# !pip install BlackBoxAuditing\n",
    "# !pip install sklearn\n",
    "# !pip install xgboost\n",
    "# !pip install wrapt\n",
    "# !pip install fairlearn\n",
    "# !pip install BlackBoxAuditing\n",
    "# !pip install lime\n",
    "# !pip install statsmodels"
   ]
  },
  {
   "cell_type": "code",
   "execution_count": null,
   "id": "af768931",
   "metadata": {},
   "outputs": [],
   "source": [
    "%matplotlib inline\n",
    "from IPython.core.interactiveshell import InteractiveShell\n",
    "InteractiveShell.ast_node_interactivity = \"all\"\n",
    "\n",
    "# import libraries\n",
    "import pandas as pd\n",
    "import numpy as np\n",
    "import matplotlib.pyplot as plt\n",
    "import seaborn as sns\n",
    "\n",
    "from tap.trustworthy import mlobject, explain, fairness, robust\n",
    "\n",
    "from sklearn.model_selection import train_test_split\n",
    "from sklearn.ensemble import RandomForestClassifier\n",
    "from sklearn.metrics import accuracy_score\n",
    "from imblearn.over_sampling import SMOTE, RandomOverSampler\n",
    "\n",
    "import warnings\n",
    "warnings.filterwarnings(\"ignore\")"
   ]
  },
  {
   "cell_type": "markdown",
   "id": "532bfd1c",
   "metadata": {},
   "source": [
    "You may now move forward to developing your Final Project\n",
    "\n",
    "---"
   ]
  },
  {
   "cell_type": "markdown",
   "id": "99dd4c91",
   "metadata": {},
   "source": [
    "# Trustworthy AI: Final Project\n",
    "Complete 100 pts. for credit on course final project and presentation. Parts 1-6 are required."
   ]
  },
  {
   "cell_type": "markdown",
   "id": "2bce6504",
   "metadata": {},
   "source": [
    "Student Name:"
   ]
  },
  {
   "cell_type": "markdown",
   "id": "48e7a7e8",
   "metadata": {},
   "source": [
    "## 1. Introduction - 5 pts\n",
    "Brief description of your project. What data are you analyzing, what TAP tools and methods will you be using, and what do you hope to learn/accomplish?"
   ]
  },
  {
   "cell_type": "markdown",
   "id": "98dc2dd2",
   "metadata": {},
   "source": [
    "- *Write here*"
   ]
  },
  {
   "cell_type": "markdown",
   "id": "50450c79",
   "metadata": {},
   "source": [
    "## 2. Import Data - 10-20pts\n",
    "Use the default HMDA data for 10pts, or find your own data relevant to your project/personal use for 20pts\n",
    "\n",
    "If using your own data, link the dataset and briefly describe it: What does it measure? Who collected it? Where was it accessed from? Why did you choose to use it?"
   ]
  },
  {
   "cell_type": "markdown",
   "id": "bb65a320",
   "metadata": {},
   "source": [
    "- *Describe dataset here*"
   ]
  },
  {
   "cell_type": "code",
   "execution_count": null,
   "id": "f922168c",
   "metadata": {},
   "outputs": [],
   "source": [
    "# Default dataset\n",
    "# df = pd.read_csv(\"cfg-tap-docs/tutorials/data/hmda_raw.csv\", index_col=0)\n",
    "\n",
    "# YOUR CODE HERE"
   ]
  },
  {
   "cell_type": "markdown",
   "id": "e027e361",
   "metadata": {},
   "source": [
    "## 3. Data Cleaning - 10pts\n",
    "\n",
    "Use this space for any cleaning or other pre-processing"
   ]
  },
  {
   "cell_type": "code",
   "execution_count": null,
   "id": "e2c57f86",
   "metadata": {},
   "outputs": [],
   "source": [
    "# Code Here"
   ]
  },
  {
   "cell_type": "markdown",
   "id": "c5073259",
   "metadata": {},
   "source": [
    "## 4. Model Development - 10-20pts\n",
    "Use the default tutorial model for 10pts, or load/develop your own model relevant to your project/personal use for 20pts\n",
    "\n",
    "If developing your own model, briefly describe it: What model did you build? Why did you choose it? "
   ]
  },
  {
   "cell_type": "markdown",
   "id": "2c2a96f4",
   "metadata": {},
   "source": [
    "- *Describe model here*"
   ]
  },
  {
   "cell_type": "code",
   "execution_count": 2,
   "id": "d4542556",
   "metadata": {},
   "outputs": [],
   "source": [
    "# Default tutorial model \n",
    "# model = RandomForestClassifier()\n",
    "# model.fit(X_train, y_train)\n",
    "# predictions = model.predict(X_test)\n",
    "# probabilities = model.predict_proba(X_test)\n",
    "\n",
    "# YOUR CODE HERE "
   ]
  },
  {
   "cell_type": "markdown",
   "id": "309ccce7",
   "metadata": {},
   "source": [
    "## 5. TAP Pillar (40 pts)\n",
    "All students must complete Part A, the Robust pillar, as well as one additional pillar of their choice (B. Explainability, C. Fairness, or D. Privacy). Use associated TAP packages to develop results, and be prepared to explain all results and visualizations\n"
   ]
  },
  {
   "cell_type": "markdown",
   "id": "7bf81742",
   "metadata": {},
   "source": [
    "### A. Robust Pillar - 20pts (Required)\n",
    "Generate Robust performance metrics\n",
    "\n"
   ]
  },
  {
   "cell_type": "code",
   "execution_count": null,
   "id": "bce6184e",
   "metadata": {},
   "outputs": [],
   "source": [
    "# CODE HERE"
   ]
  },
  {
   "cell_type": "markdown",
   "id": "8dc6bd6b",
   "metadata": {},
   "source": [
    "Write conclusions based on your observation (i.e. describe the results, graphs, etc.)"
   ]
  },
  {
   "cell_type": "markdown",
   "id": "c0a4b111",
   "metadata": {},
   "source": [
    "- *Write here*"
   ]
  },
  {
   "cell_type": "markdown",
   "id": "c0697a90",
   "metadata": {},
   "source": [
    "### B. Explainability Pillar - 20pts\n",
    "Describe why you chose this pillar - is it most relevant to your dataset/topic? Most personally interesting to you? Some other reason?\n",
    "\n",
    "\n",
    "\n"
   ]
  },
  {
   "cell_type": "markdown",
   "id": "94430c6d",
   "metadata": {},
   "source": [
    "- *Write here*"
   ]
  },
  {
   "cell_type": "markdown",
   "id": "e55bd5d0",
   "metadata": {},
   "source": [
    "Generate explanations for your model"
   ]
  },
  {
   "cell_type": "code",
   "execution_count": null,
   "id": "7cdd9567",
   "metadata": {},
   "outputs": [],
   "source": [
    "# CODE HERE"
   ]
  },
  {
   "cell_type": "markdown",
   "id": "b14c063f",
   "metadata": {},
   "source": [
    "Write conclusions based on your observations (i.e. describe the results, graphs, etc.)"
   ]
  },
  {
   "cell_type": "markdown",
   "id": "dd935ec2",
   "metadata": {},
   "source": [
    "- *Write here*"
   ]
  },
  {
   "cell_type": "markdown",
   "id": "95079f29",
   "metadata": {},
   "source": [
    "### C. Fairness Pillar - 20pts\n",
    "Describe why you chose this pillar - is it most relevant to your dataset/topic? Most personally interesting to you? Some other reason?\n",
    "\n",
    "\n",
    "\n"
   ]
  },
  {
   "cell_type": "markdown",
   "id": "33afdc59",
   "metadata": {},
   "source": [
    "- *Write here*"
   ]
  },
  {
   "cell_type": "markdown",
   "id": "6461a21a",
   "metadata": {},
   "source": [
    "Generate Fairness Metrics and/or Bias Mitigation methods"
   ]
  },
  {
   "cell_type": "code",
   "execution_count": null,
   "id": "687447a7",
   "metadata": {},
   "outputs": [],
   "source": [
    "# CODE HERE"
   ]
  },
  {
   "cell_type": "markdown",
   "id": "0f994ad5",
   "metadata": {},
   "source": [
    "Write conclusions based on your observation (i.e. describe the results, graphs, etc.)"
   ]
  },
  {
   "cell_type": "markdown",
   "id": "0d0faa31",
   "metadata": {},
   "source": [
    "- *Write here*"
   ]
  },
  {
   "cell_type": "markdown",
   "id": "26e96910",
   "metadata": {},
   "source": [
    "### D. Privacy Pillar - 20pts\n",
    "Describe why you chose this pillar - is it most relevant to your dataset/topic? Most personally interesting to you? Some other reason?\n",
    "\n"
   ]
  },
  {
   "cell_type": "markdown",
   "id": "3f7018d1",
   "metadata": {},
   "source": [
    "- *Write here*"
   ]
  },
  {
   "cell_type": "markdown",
   "id": "a6cd2d22",
   "metadata": {},
   "source": [
    "Demonstrate improvements to data/model privacy\n"
   ]
  },
  {
   "cell_type": "code",
   "execution_count": null,
   "id": "1c2a6d9f",
   "metadata": {},
   "outputs": [],
   "source": [
    "# CODE HERE"
   ]
  },
  {
   "cell_type": "markdown",
   "id": "0462e0a1",
   "metadata": {},
   "source": [
    "Write conclusions based on your observation"
   ]
  },
  {
   "cell_type": "markdown",
   "id": "95219365",
   "metadata": {},
   "source": [
    "- *Write here*"
   ]
  },
  {
   "cell_type": "markdown",
   "id": "8dd31166",
   "metadata": {},
   "source": [
    "## 6. Reflection/Conclusion - 15pts\n",
    "\n",
    "Write a brief response (1-2 paragraphs) reflecting on the project and course. You may want to answer questions such as: \n",
    "- What was your experience using these methods? \n",
    "- What gaps/limitations did you find? \n",
    "- How would you address these gaps or limitations?\n",
    "- What results surprised you?\n",
    "- What results were you dissapointed by?\n",
    "- How could these methods be used in your client space?\n",
    "- What tools would be most valuable in your day to day life? Why?\n",
    "\n",
    "\n",
    "..."
   ]
  },
  {
   "cell_type": "markdown",
   "id": "be0c6add",
   "metadata": {},
   "source": [
    "- *Write here*"
   ]
  },
  {
   "cell_type": "markdown",
   "id": "c540a4eb",
   "metadata": {},
   "source": [
    "## 7. Additional TAP Method - 10 pts\n",
    "Choose a 3rd TAP pillar not used in part 5, or use a new method not discussed in class (i.e. an explainability tool that is not SHAP or LIME)"
   ]
  },
  {
   "cell_type": "code",
   "execution_count": null,
   "id": "ab14e820",
   "metadata": {},
   "outputs": [],
   "source": [
    "# CODE HERE"
   ]
  },
  {
   "cell_type": "markdown",
   "id": "dca3f7b6",
   "metadata": {},
   "source": [
    "## 8. Trustworthy AI Regulation - 10 pts\n",
    "\n",
    "Identify an existing or proposed piece of regulation related to your project. Describe the regulation, discuss how your project/research supports the goals of the regulation, and what challenges exist in meeting the regulation’s requirements"
   ]
  },
  {
   "cell_type": "markdown",
   "id": "4077be91",
   "metadata": {},
   "source": [
    "- *Write here*"
   ]
  },
  {
   "cell_type": "code",
   "execution_count": null,
   "id": "2ca1af91",
   "metadata": {},
   "outputs": [],
   "source": []
  },
  {
   "cell_type": "code",
   "execution_count": null,
   "id": "d2dd0a56",
   "metadata": {},
   "outputs": [],
   "source": []
  }
 ],
 "metadata": {
  "kernelspec": {
   "display_name": "Python 3",
   "language": "python",
   "name": "python3"
  },
  "language_info": {
   "codemirror_mode": {
    "name": "ipython",
    "version": 3
   },
   "file_extension": ".py",
   "mimetype": "text/x-python",
   "name": "python",
   "nbconvert_exporter": "python",
   "pygments_lexer": "ipython3",
   "version": "3.8.8"
  }
 },
 "nbformat": 4,
 "nbformat_minor": 5
}
