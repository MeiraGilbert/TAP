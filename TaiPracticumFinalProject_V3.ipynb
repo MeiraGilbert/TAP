{
 "cells": [
  {
   "cell_type": "markdown",
   "id": "eaae6637",
   "metadata": {},
   "source": [
    "# Trustworthy AI: Final Project\n",
    "Complete 100 pts. for credit on course final project and presentation. Parts 1-6 are required."
   ]
  },
  {
   "cell_type": "markdown",
   "id": "d811dd74",
   "metadata": {},
   "source": [
    "Student Name:"
   ]
  },
  {
   "cell_type": "markdown",
   "id": "3f78b926",
   "metadata": {},
   "source": [
    "## 1. Introduction - 5 pts\n",
    "Brief description of your project. What data are you analyzing, what TAP tools and methods will you be using, and what do you hope to learn/accomplish?"
   ]
  },
  {
   "cell_type": "markdown",
   "id": "9ebb9ad1",
   "metadata": {},
   "source": [
    "- *Write here*"
   ]
  },
  {
   "cell_type": "markdown",
   "id": "c97fc299",
   "metadata": {},
   "source": [
    "## 2. Import Data - 10-20pts\n",
    "Use the default HMDA data for 10pts, or find your own data relevant to your project/personal use for 20pts\n",
    "\n",
    "If using your own data, link the dataset and briefly describe it: What does it measure? Who collected it? Where was it accessed from? Why did you choose to use it?"
   ]
  },
  {
   "cell_type": "markdown",
   "id": "0d9941c0",
   "metadata": {},
   "source": [
    "- *Describe dataset here*"
   ]
  },
  {
   "cell_type": "code",
   "execution_count": 10,
   "id": "c1461c1a",
   "metadata": {},
   "outputs": [],
   "source": [
    "# CODE HERE"
   ]
  },
  {
   "cell_type": "markdown",
   "id": "90640290",
   "metadata": {},
   "source": [
    "## 3. Data Cleaning - 10pts\n",
    "\n",
    "Use this space for any cleaning or other pre-processing"
   ]
  },
  {
   "cell_type": "code",
   "execution_count": 11,
   "id": "dd7968e9",
   "metadata": {},
   "outputs": [],
   "source": [
    "# CODE HERE"
   ]
  },
  {
   "cell_type": "markdown",
   "id": "a73aaa3f",
   "metadata": {},
   "source": [
    "## 4. Model Development - 10-20pts\n",
    "Use the default tutorial model for 10pts, or load/develop your own model relevant to your project/personal use for 20pts\n",
    "\n",
    "If developing your own model, briefly describe it: What model did you build? Why did you choose it? "
   ]
  },
  {
   "cell_type": "markdown",
   "id": "d04435be",
   "metadata": {},
   "source": [
    "- *Describe model here*"
   ]
  },
  {
   "cell_type": "code",
   "execution_count": 12,
   "id": "ae521d47",
   "metadata": {},
   "outputs": [],
   "source": [
    "# CODE HERE"
   ]
  },
  {
   "cell_type": "markdown",
   "id": "9212cefc",
   "metadata": {},
   "source": [
    "## 5. TAP Pillar (40 pts)\n",
    "All students must complete Part A, the Robust pillar, as well as one additional pillar of their choice (B. Explainability, C. Fairness, or D. Privacy). Use associated TAP packages to develop results, and be prepared to explain all results and visualizations\n"
   ]
  },
  {
   "cell_type": "markdown",
   "id": "bd5404c6",
   "metadata": {},
   "source": [
    "### A. Robust Pillar - 20pts (Required)\n",
    "Generate Robust performance metrics\n",
    "\n"
   ]
  },
  {
   "cell_type": "code",
   "execution_count": 13,
   "id": "221cbc5a",
   "metadata": {},
   "outputs": [],
   "source": [
    "# CODE HERE"
   ]
  },
  {
   "cell_type": "markdown",
   "id": "5990afc3",
   "metadata": {},
   "source": [
    "Write conclusions based on your observation (i.e. describe the results, graphs, etc.)"
   ]
  },
  {
   "cell_type": "markdown",
   "id": "30472b60",
   "metadata": {},
   "source": [
    "- *Write here*"
   ]
  },
  {
   "cell_type": "markdown",
   "id": "0e900afe",
   "metadata": {},
   "source": [
    "### B. Explainability Pillar - 20pts\n",
    "Describe why you chose this pillar - is it most relevant to your dataset/topic? Most personally interesting to you? Some other reason?\n",
    "\n",
    "\n",
    "\n"
   ]
  },
  {
   "cell_type": "markdown",
   "id": "1900871e",
   "metadata": {},
   "source": [
    "- *Write here*"
   ]
  },
  {
   "cell_type": "markdown",
   "id": "380f03e3",
   "metadata": {},
   "source": [
    "Generate explanations for your model"
   ]
  },
  {
   "cell_type": "code",
   "execution_count": 14,
   "id": "b030f285",
   "metadata": {},
   "outputs": [],
   "source": [
    "# CODE HERE"
   ]
  },
  {
   "cell_type": "markdown",
   "id": "d5dacff3",
   "metadata": {},
   "source": [
    "Write conclusions based on your observations (i.e. describe the results, graphs, etc.)"
   ]
  },
  {
   "cell_type": "markdown",
   "id": "3fb34516",
   "metadata": {},
   "source": [
    "- *Write here*"
   ]
  },
  {
   "cell_type": "markdown",
   "id": "c8db4539",
   "metadata": {},
   "source": [
    "### C. Fairness Pillar - 20pts\n",
    "Describe why you chose this pillar - is it most relevant to your dataset/topic? Most personally interesting to you? Some other reason?\n",
    "\n",
    "\n",
    "\n"
   ]
  },
  {
   "cell_type": "markdown",
   "id": "0f3fb037",
   "metadata": {},
   "source": [
    "- *Write here*"
   ]
  },
  {
   "cell_type": "markdown",
   "id": "cd7a3921",
   "metadata": {},
   "source": [
    "Generate Fairness Metrics and/or Bias Mitigation methods"
   ]
  },
  {
   "cell_type": "code",
   "execution_count": 15,
   "id": "87d61307",
   "metadata": {},
   "outputs": [],
   "source": [
    "# CODE HERE"
   ]
  },
  {
   "cell_type": "markdown",
   "id": "c368077c",
   "metadata": {},
   "source": [
    "Write conclusions based on your observation (i.e. describe the results, graphs, etc.)"
   ]
  },
  {
   "cell_type": "markdown",
   "id": "bfb50e0c",
   "metadata": {},
   "source": [
    "- *Write here*"
   ]
  },
  {
   "cell_type": "markdown",
   "id": "be98c573",
   "metadata": {},
   "source": [
    "### D. Privacy Pillar - 20pts\n",
    "Describe why you chose this pillar - is it most relevant to your dataset/topic? Most personally interesting to you? Some other reason?\n",
    "\n"
   ]
  },
  {
   "cell_type": "markdown",
   "id": "3f062e21",
   "metadata": {},
   "source": [
    "- *Write here*"
   ]
  },
  {
   "cell_type": "markdown",
   "id": "3416a07c",
   "metadata": {},
   "source": [
    "Demonstrate improvements to data/model privacy\n"
   ]
  },
  {
   "cell_type": "code",
   "execution_count": 9,
   "id": "cc62e2ef",
   "metadata": {},
   "outputs": [],
   "source": [
    "# CODE HERE"
   ]
  },
  {
   "cell_type": "markdown",
   "id": "b1e23286",
   "metadata": {},
   "source": [
    "Write conclusions based on your observation"
   ]
  },
  {
   "cell_type": "markdown",
   "id": "4f4c6c22",
   "metadata": {},
   "source": [
    "- *Write here*"
   ]
  },
  {
   "cell_type": "markdown",
   "id": "32735f62",
   "metadata": {},
   "source": [
    "## 6. Reflection/Conclusion - 15pts\n",
    "\n",
    "Write a brief response (1-2 paragraphs) reflecting on the project and course. You may want to answer questions such as: \n",
    "- What was your experience using these methods? \n",
    "- What gaps/limitations did you find? \n",
    "- How would you address these gaps or limitations?\n",
    "- What results surprised you?\n",
    "- What results were you dissapointed by?\n",
    "- How could these methods be used in your client space?\n",
    "- What tools would be most valuable in your day to day life? Why?\n",
    "\n",
    "\n",
    "..."
   ]
  },
  {
   "cell_type": "markdown",
   "id": "e5f49de1",
   "metadata": {},
   "source": [
    "- *Write here*"
   ]
  },
  {
   "cell_type": "markdown",
   "id": "bc7485cb",
   "metadata": {},
   "source": [
    "## 7. Additional TAP Method - 10 pts\n",
    "Choose a 3rd TAP pillar not used in part 5, or use a new method not discussed in class (i.e. an explainability tool that is not SHAP or LIME)"
   ]
  },
  {
   "cell_type": "code",
   "execution_count": 16,
   "id": "595fc66c",
   "metadata": {},
   "outputs": [],
   "source": [
    "# CODE HERE"
   ]
  },
  {
   "cell_type": "markdown",
   "id": "a215393d",
   "metadata": {},
   "source": [
    "## 8. Trustworthy AI Regulation - 10 pts\n",
    "\n",
    "Identify an existing or proposed piece of regulation related to your project. Describe the regulation, discuss how your project/research supports the goals of the regulation, and what challenges exist in meeting the regulation’s requirements"
   ]
  },
  {
   "cell_type": "markdown",
   "id": "032da4fe",
   "metadata": {},
   "source": [
    "- *Write here*"
   ]
  },
  {
   "cell_type": "code",
   "execution_count": null,
   "id": "667080e5",
   "metadata": {},
   "outputs": [],
   "source": []
  }
 ],
 "metadata": {
  "kernelspec": {
   "display_name": "Python 3 (ipykernel)",
   "language": "python",
   "name": "python3"
  },
  "language_info": {
   "codemirror_mode": {
    "name": "ipython",
    "version": 3
   },
   "file_extension": ".py",
   "mimetype": "text/x-python",
   "name": "python",
   "nbconvert_exporter": "python",
   "pygments_lexer": "ipython3",
   "version": "3.9.7"
  }
 },
 "nbformat": 4,
 "nbformat_minor": 5
}
