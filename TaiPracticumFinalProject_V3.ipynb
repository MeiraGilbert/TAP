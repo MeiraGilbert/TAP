{
 "cells": [
  {
   "cell_type": "markdown",
   "id": "4ccb7bb6",
   "metadata": {},
   "source": [
    "# Initial TAP Notebook Setup\n",
    "\n",
    "### Install the TAP Software Development Kit (SDK) to use TAP Trustworthy AI (TAI) and Toolkit modules for implementing TAI methods and logging artifacts to the Tracking Server\n",
    "\n",
    "These are some of the base python packages that may require installation. \n",
    "\n",
    "- Go to 'File' and then 'New Launcher' and open a new terminal window\n",
    "- Copy the below command into a terminal window and run it (make sure to remove the '#'). \n",
    "- You will need your **personal access token** available to enter when prompted for your username. "
   ]
  },
  {
   "cell_type": "code",
   "execution_count": null,
   "id": "8a80482f",
   "metadata": {},
   "outputs": [],
   "source": [
    "#pip install git+https://github.com/Deloitte/tap-package.git --force-reinstall"
   ]
  },
  {
   "cell_type": "markdown",
   "id": "1cf0188a",
   "metadata": {},
   "source": [
    "- when it prompted `Username for 'https://github.com':` enter your username for github (do not include '@deloitte.com')\n",
    "- when prompted for `Password for 'https://yourusername@github.com':`  enter your personal access token\n",
    "- you will not see your personal access key pasted, so simply paste it *once* and press enter\n",
    "- refer to https://github.com/Deloitte/cfg-tap-docs#workspace-quickstart and 'Configure your Deloitte GitHub ID' on setting up access keys\n",
    "- **Note:** if you have already installed the package you will need to run the command: **pip uninstall tap**\n",
    "\n"
   ]
  },
  {
   "cell_type": "markdown",
   "id": "67e8ea02",
   "metadata": {},
   "source": [
    "---"
   ]
  },
  {
   "cell_type": "markdown",
   "id": "daab52f4",
   "metadata": {},
   "source": [
    "### Install base libraries\n",
    "\n",
    "Next run the following commands within this notebook."
   ]
  },
  {
   "cell_type": "code",
   "execution_count": 1,
   "id": "69bf6870",
   "metadata": {},
   "outputs": [
    {
     "name": "stdout",
     "output_type": "stream",
     "text": [
      "Requirement already satisfied: imblearn in /opt/conda/lib/python3.8/site-packages (0.0)\n",
      "Requirement already satisfied: imbalanced-learn in /opt/conda/lib/python3.8/site-packages (from imblearn) (0.9.1)\n",
      "Requirement already satisfied: scipy>=1.3.2 in /opt/conda/lib/python3.8/site-packages (from imbalanced-learn->imblearn) (1.7.3)\n",
      "Requirement already satisfied: numpy>=1.17.3 in /opt/conda/lib/python3.8/site-packages (from imbalanced-learn->imblearn) (1.21.5)\n",
      "Requirement already satisfied: scikit-learn>=1.1.0 in /opt/conda/lib/python3.8/site-packages (from imbalanced-learn->imblearn) (1.1.1)\n",
      "Requirement already satisfied: threadpoolctl>=2.0.0 in /opt/conda/lib/python3.8/site-packages (from imbalanced-learn->imblearn) (3.1.0)\n",
      "Requirement already satisfied: joblib>=1.0.0 in /opt/conda/lib/python3.8/site-packages (from imbalanced-learn->imblearn) (1.1.0)\n",
      "Requirement already satisfied: aif360 in /opt/conda/lib/python3.8/site-packages (0.3.0)\n",
      "Requirement already satisfied: numpy>=1.16 in /opt/conda/lib/python3.8/site-packages (from aif360) (1.21.5)\n",
      "Requirement already satisfied: scikit-learn>=0.21 in /opt/conda/lib/python3.8/site-packages (from aif360) (1.1.1)\n",
      "Requirement already satisfied: pandas>=0.24.0 in /opt/conda/lib/python3.8/site-packages (from aif360) (1.4.0)\n",
      "Requirement already satisfied: matplotlib in /opt/conda/lib/python3.8/site-packages (from aif360) (3.5.1)\n",
      "Requirement already satisfied: scipy>=1.2.0 in /opt/conda/lib/python3.8/site-packages (from aif360) (1.7.3)\n",
      "Requirement already satisfied: python-dateutil>=2.8.1 in /opt/conda/lib/python3.8/site-packages (from pandas>=0.24.0->aif360) (2.8.2)\n",
      "Requirement already satisfied: pytz>=2020.1 in /opt/conda/lib/python3.8/site-packages (from pandas>=0.24.0->aif360) (2021.3)\n",
      "Requirement already satisfied: joblib>=1.0.0 in /opt/conda/lib/python3.8/site-packages (from scikit-learn>=0.21->aif360) (1.1.0)\n",
      "Requirement already satisfied: threadpoolctl>=2.0.0 in /opt/conda/lib/python3.8/site-packages (from scikit-learn>=0.21->aif360) (3.1.0)\n",
      "Requirement already satisfied: kiwisolver>=1.0.1 in /opt/conda/lib/python3.8/site-packages (from matplotlib->aif360) (1.3.2)\n",
      "Requirement already satisfied: fonttools>=4.22.0 in /opt/conda/lib/python3.8/site-packages (from matplotlib->aif360) (4.29.1)\n",
      "Requirement already satisfied: packaging>=20.0 in /opt/conda/lib/python3.8/site-packages (from matplotlib->aif360) (21.3)\n",
      "Requirement already satisfied: pillow>=6.2.0 in /opt/conda/lib/python3.8/site-packages (from matplotlib->aif360) (9.0.1)\n",
      "Requirement already satisfied: cycler>=0.10 in /opt/conda/lib/python3.8/site-packages (from matplotlib->aif360) (0.11.0)\n",
      "Requirement already satisfied: pyparsing>=2.2.1 in /opt/conda/lib/python3.8/site-packages (from matplotlib->aif360) (3.0.7)\n",
      "Requirement already satisfied: six>=1.5 in /opt/conda/lib/python3.8/site-packages (from python-dateutil>=2.8.1->pandas>=0.24.0->aif360) (1.16.0)\n",
      "Requirement already satisfied: aif360[LFR] in /opt/conda/lib/python3.8/site-packages (0.3.0)\n",
      "Requirement already satisfied: scikit-learn>=0.21 in /opt/conda/lib/python3.8/site-packages (from aif360[LFR]) (1.1.1)\n",
      "Requirement already satisfied: numpy>=1.16 in /opt/conda/lib/python3.8/site-packages (from aif360[LFR]) (1.21.5)\n",
      "Requirement already satisfied: matplotlib in /opt/conda/lib/python3.8/site-packages (from aif360[LFR]) (3.5.1)\n",
      "Requirement already satisfied: pandas>=0.24.0 in /opt/conda/lib/python3.8/site-packages (from aif360[LFR]) (1.4.0)\n",
      "Requirement already satisfied: scipy>=1.2.0 in /opt/conda/lib/python3.8/site-packages (from aif360[LFR]) (1.7.3)\n",
      "Requirement already satisfied: numba>=0.42.0 in /opt/conda/lib/python3.8/site-packages (from aif360[LFR]) (0.55.1)\n",
      "Requirement already satisfied: llvmlite<0.39,>=0.38.0rc1 in /opt/conda/lib/python3.8/site-packages (from numba>=0.42.0->aif360[LFR]) (0.38.0)\n",
      "Requirement already satisfied: setuptools in /opt/conda/lib/python3.8/site-packages (from numba>=0.42.0->aif360[LFR]) (60.7.0)\n",
      "Requirement already satisfied: python-dateutil>=2.8.1 in /opt/conda/lib/python3.8/site-packages (from pandas>=0.24.0->aif360[LFR]) (2.8.2)\n",
      "Requirement already satisfied: pytz>=2020.1 in /opt/conda/lib/python3.8/site-packages (from pandas>=0.24.0->aif360[LFR]) (2021.3)\n",
      "Requirement already satisfied: threadpoolctl>=2.0.0 in /opt/conda/lib/python3.8/site-packages (from scikit-learn>=0.21->aif360[LFR]) (3.1.0)\n",
      "Requirement already satisfied: joblib>=1.0.0 in /opt/conda/lib/python3.8/site-packages (from scikit-learn>=0.21->aif360[LFR]) (1.1.0)\n",
      "Requirement already satisfied: pyparsing>=2.2.1 in /opt/conda/lib/python3.8/site-packages (from matplotlib->aif360[LFR]) (3.0.7)\n",
      "Requirement already satisfied: cycler>=0.10 in /opt/conda/lib/python3.8/site-packages (from matplotlib->aif360[LFR]) (0.11.0)\n",
      "Requirement already satisfied: kiwisolver>=1.0.1 in /opt/conda/lib/python3.8/site-packages (from matplotlib->aif360[LFR]) (1.3.2)\n",
      "Requirement already satisfied: pillow>=6.2.0 in /opt/conda/lib/python3.8/site-packages (from matplotlib->aif360[LFR]) (9.0.1)\n",
      "Requirement already satisfied: fonttools>=4.22.0 in /opt/conda/lib/python3.8/site-packages (from matplotlib->aif360[LFR]) (4.29.1)\n",
      "Requirement already satisfied: packaging>=20.0 in /opt/conda/lib/python3.8/site-packages (from matplotlib->aif360[LFR]) (21.3)\n",
      "Requirement already satisfied: six>=1.5 in /opt/conda/lib/python3.8/site-packages (from python-dateutil>=2.8.1->pandas>=0.24.0->aif360[LFR]) (1.16.0)\n",
      "Requirement already satisfied: diffprivlib in /opt/conda/lib/python3.8/site-packages (0.5.2)\n",
      "Requirement already satisfied: scipy>=1.5.0 in /opt/conda/lib/python3.8/site-packages (from diffprivlib) (1.7.3)\n",
      "Requirement already satisfied: setuptools>=49.0.0 in /opt/conda/lib/python3.8/site-packages (from diffprivlib) (60.7.0)\n",
      "Requirement already satisfied: joblib>=0.16.0 in /opt/conda/lib/python3.8/site-packages (from diffprivlib) (1.1.0)\n",
      "Requirement already satisfied: numpy>=1.19.0 in /opt/conda/lib/python3.8/site-packages (from diffprivlib) (1.21.5)\n",
      "Requirement already satisfied: crlibm>=1.0.3 in /opt/conda/lib/python3.8/site-packages (from diffprivlib) (1.0.3)\n",
      "Requirement already satisfied: scikit-learn>=0.23.0 in /opt/conda/lib/python3.8/site-packages (from diffprivlib) (1.1.1)\n",
      "Requirement already satisfied: threadpoolctl>=2.0.0 in /opt/conda/lib/python3.8/site-packages (from scikit-learn>=0.23.0->diffprivlib) (3.1.0)\n",
      "Requirement already satisfied: tensorflow in /opt/conda/lib/python3.8/site-packages (2.9.1)\n",
      "Requirement already satisfied: numpy>=1.20 in /opt/conda/lib/python3.8/site-packages (from tensorflow) (1.21.5)\n",
      "Requirement already satisfied: packaging in /opt/conda/lib/python3.8/site-packages (from tensorflow) (21.3)\n",
      "Requirement already satisfied: h5py>=2.9.0 in /opt/conda/lib/python3.8/site-packages (from tensorflow) (3.7.0)\n",
      "Requirement already satisfied: flatbuffers<2,>=1.12 in /opt/conda/lib/python3.8/site-packages (from tensorflow) (1.12)\n",
      "Requirement already satisfied: google-pasta>=0.1.1 in /opt/conda/lib/python3.8/site-packages (from tensorflow) (0.2.0)\n",
      "Requirement already satisfied: opt-einsum>=2.3.2 in /opt/conda/lib/python3.8/site-packages (from tensorflow) (3.3.0)\n",
      "Requirement already satisfied: grpcio<2.0,>=1.24.3 in /opt/conda/lib/python3.8/site-packages (from tensorflow) (1.47.0)\n",
      "Requirement already satisfied: tensorflow-estimator<2.10.0,>=2.9.0rc0 in /opt/conda/lib/python3.8/site-packages (from tensorflow) (2.9.0)\n",
      "Requirement already satisfied: tensorboard<2.10,>=2.9 in /opt/conda/lib/python3.8/site-packages (from tensorflow) (2.9.1)\n",
      "Requirement already satisfied: six>=1.12.0 in /opt/conda/lib/python3.8/site-packages (from tensorflow) (1.16.0)\n",
      "Requirement already satisfied: keras<2.10.0,>=2.9.0rc0 in /opt/conda/lib/python3.8/site-packages (from tensorflow) (2.9.0)\n",
      "Requirement already satisfied: astunparse>=1.6.0 in /opt/conda/lib/python3.8/site-packages (from tensorflow) (1.6.3)\n",
      "Requirement already satisfied: termcolor>=1.1.0 in /opt/conda/lib/python3.8/site-packages (from tensorflow) (1.1.0)\n",
      "Requirement already satisfied: libclang>=13.0.0 in /opt/conda/lib/python3.8/site-packages (from tensorflow) (14.0.1)\n",
      "Requirement already satisfied: tensorflow-io-gcs-filesystem>=0.23.1 in /opt/conda/lib/python3.8/site-packages (from tensorflow) (0.26.0)\n",
      "Requirement already satisfied: setuptools in /opt/conda/lib/python3.8/site-packages (from tensorflow) (60.7.0)\n",
      "Requirement already satisfied: absl-py>=1.0.0 in /opt/conda/lib/python3.8/site-packages (from tensorflow) (1.2.0)\n",
      "Requirement already satisfied: keras-preprocessing>=1.1.1 in /opt/conda/lib/python3.8/site-packages (from tensorflow) (1.1.2)\n",
      "Requirement already satisfied: typing-extensions>=3.6.6 in /opt/conda/lib/python3.8/site-packages (from tensorflow) (4.0.1)\n",
      "Requirement already satisfied: protobuf<3.20,>=3.9.2 in /opt/conda/lib/python3.8/site-packages (from tensorflow) (3.19.4)\n",
      "Requirement already satisfied: gast<=0.4.0,>=0.2.1 in /opt/conda/lib/python3.8/site-packages (from tensorflow) (0.4.0)\n",
      "Requirement already satisfied: wrapt>=1.11.0 in /opt/conda/lib/python3.8/site-packages (from tensorflow) (1.14.1)\n",
      "Requirement already satisfied: wheel<1.0,>=0.23.0 in /opt/conda/lib/python3.8/site-packages (from astunparse>=1.6.0->tensorflow) (0.37.1)\n",
      "Requirement already satisfied: google-auth<3,>=1.6.3 in /opt/conda/lib/python3.8/site-packages (from tensorboard<2.10,>=2.9->tensorflow) (2.9.1)\n",
      "Requirement already satisfied: werkzeug>=1.0.1 in /opt/conda/lib/python3.8/site-packages (from tensorboard<2.10,>=2.9->tensorflow) (2.0.2)\n",
      "Requirement already satisfied: google-auth-oauthlib<0.5,>=0.4.1 in /opt/conda/lib/python3.8/site-packages (from tensorboard<2.10,>=2.9->tensorflow) (0.4.6)\n",
      "Requirement already satisfied: tensorboard-data-server<0.7.0,>=0.6.0 in /opt/conda/lib/python3.8/site-packages (from tensorboard<2.10,>=2.9->tensorflow) (0.6.1)\n",
      "Requirement already satisfied: requests<3,>=2.21.0 in /opt/conda/lib/python3.8/site-packages (from tensorboard<2.10,>=2.9->tensorflow) (2.27.1)\n",
      "Requirement already satisfied: tensorboard-plugin-wit>=1.6.0 in /opt/conda/lib/python3.8/site-packages (from tensorboard<2.10,>=2.9->tensorflow) (1.8.1)\n",
      "Requirement already satisfied: markdown>=2.6.8 in /opt/conda/lib/python3.8/site-packages (from tensorboard<2.10,>=2.9->tensorflow) (3.4.1)\n",
      "Requirement already satisfied: pyparsing!=3.0.5,>=2.0.2 in /opt/conda/lib/python3.8/site-packages (from packaging->tensorflow) (3.0.7)\n",
      "Requirement already satisfied: rsa<5,>=3.1.4 in /opt/conda/lib/python3.8/site-packages (from google-auth<3,>=1.6.3->tensorboard<2.10,>=2.9->tensorflow) (4.9)\n",
      "Requirement already satisfied: pyasn1-modules>=0.2.1 in /opt/conda/lib/python3.8/site-packages (from google-auth<3,>=1.6.3->tensorboard<2.10,>=2.9->tensorflow) (0.2.8)\n",
      "Requirement already satisfied: cachetools<6.0,>=2.0.0 in /opt/conda/lib/python3.8/site-packages (from google-auth<3,>=1.6.3->tensorboard<2.10,>=2.9->tensorflow) (5.2.0)\n",
      "Requirement already satisfied: requests-oauthlib>=0.7.0 in /opt/conda/lib/python3.8/site-packages (from google-auth-oauthlib<0.5,>=0.4.1->tensorboard<2.10,>=2.9->tensorflow) (1.3.1)\n",
      "Requirement already satisfied: importlib-metadata>=4.4 in /opt/conda/lib/python3.8/site-packages (from markdown>=2.6.8->tensorboard<2.10,>=2.9->tensorflow) (4.10.1)\n",
      "Requirement already satisfied: idna<4,>=2.5 in /opt/conda/lib/python3.8/site-packages (from requests<3,>=2.21.0->tensorboard<2.10,>=2.9->tensorflow) (3.3)\n",
      "Requirement already satisfied: charset-normalizer~=2.0.0 in /opt/conda/lib/python3.8/site-packages (from requests<3,>=2.21.0->tensorboard<2.10,>=2.9->tensorflow) (2.0.11)\n",
      "Requirement already satisfied: urllib3<1.27,>=1.21.1 in /opt/conda/lib/python3.8/site-packages (from requests<3,>=2.21.0->tensorboard<2.10,>=2.9->tensorflow) (1.26.8)\n",
      "Requirement already satisfied: certifi>=2017.4.17 in /opt/conda/lib/python3.8/site-packages (from requests<3,>=2.21.0->tensorboard<2.10,>=2.9->tensorflow) (2021.10.8)\n",
      "Requirement already satisfied: zipp>=0.5 in /opt/conda/lib/python3.8/site-packages (from importlib-metadata>=4.4->markdown>=2.6.8->tensorboard<2.10,>=2.9->tensorflow) (3.7.0)\n",
      "Requirement already satisfied: pyasn1<0.5.0,>=0.4.6 in /opt/conda/lib/python3.8/site-packages (from pyasn1-modules>=0.2.1->google-auth<3,>=1.6.3->tensorboard<2.10,>=2.9->tensorflow) (0.4.8)\n",
      "Requirement already satisfied: oauthlib>=3.0.0 in /opt/conda/lib/python3.8/site-packages (from requests-oauthlib>=0.7.0->google-auth-oauthlib<0.5,>=0.4.1->tensorboard<2.10,>=2.9->tensorflow) (3.2.0)\n",
      "Requirement already satisfied: fairlearn in /opt/conda/lib/python3.8/site-packages (0.5.0)\n",
      "Requirement already satisfied: scikit-learn>=0.22.1 in /opt/conda/lib/python3.8/site-packages (from fairlearn) (1.1.1)\n",
      "Requirement already satisfied: pandas>=0.25.1 in /opt/conda/lib/python3.8/site-packages (from fairlearn) (1.4.0)\n",
      "Requirement already satisfied: numpy>=1.17.2 in /opt/conda/lib/python3.8/site-packages (from fairlearn) (1.21.5)\n",
      "Requirement already satisfied: scipy>=1.4.1 in /opt/conda/lib/python3.8/site-packages (from fairlearn) (1.7.3)\n",
      "Requirement already satisfied: python-dateutil>=2.8.1 in /opt/conda/lib/python3.8/site-packages (from pandas>=0.25.1->fairlearn) (2.8.2)\n",
      "Requirement already satisfied: pytz>=2020.1 in /opt/conda/lib/python3.8/site-packages (from pandas>=0.25.1->fairlearn) (2021.3)\n",
      "Requirement already satisfied: joblib>=1.0.0 in /opt/conda/lib/python3.8/site-packages (from scikit-learn>=0.22.1->fairlearn) (1.1.0)\n",
      "Requirement already satisfied: threadpoolctl>=2.0.0 in /opt/conda/lib/python3.8/site-packages (from scikit-learn>=0.22.1->fairlearn) (3.1.0)\n",
      "Requirement already satisfied: six>=1.5 in /opt/conda/lib/python3.8/site-packages (from python-dateutil>=2.8.1->pandas>=0.25.1->fairlearn) (1.16.0)\n",
      "Requirement already satisfied: minio in /opt/conda/lib/python3.8/site-packages (7.1.3)\n",
      "Requirement already satisfied: urllib3 in /opt/conda/lib/python3.8/site-packages (from minio) (1.26.8)\n",
      "Requirement already satisfied: certifi in /opt/conda/lib/python3.8/site-packages (from minio) (2021.10.8)\n",
      "Requirement already satisfied: mlflow in /opt/conda/lib/python3.8/site-packages (1.23.1)\n",
      "Requirement already satisfied: click>=7.0 in /opt/conda/lib/python3.8/site-packages (from mlflow) (8.0.3)\n",
      "Requirement already satisfied: prometheus-flask-exporter in /opt/conda/lib/python3.8/site-packages (from mlflow) (0.18.7)\n",
      "Requirement already satisfied: sqlalchemy in /opt/conda/lib/python3.8/site-packages (from mlflow) (1.4.31)\n",
      "Requirement already satisfied: packaging in /opt/conda/lib/python3.8/site-packages (from mlflow) (21.3)\n",
      "Requirement already satisfied: gitpython>=2.1.0 in /opt/conda/lib/python3.8/site-packages (from mlflow) (3.1.20)\n",
      "Requirement already satisfied: cloudpickle in /opt/conda/lib/python3.8/site-packages (from mlflow) (1.6.0)\n",
      "Requirement already satisfied: importlib-metadata!=4.7.0,>=3.7.0 in /opt/conda/lib/python3.8/site-packages (from mlflow) (4.10.1)\n",
      "Requirement already satisfied: databricks-cli>=0.8.7 in /opt/conda/lib/python3.8/site-packages (from mlflow) (0.16.3)\n",
      "Requirement already satisfied: alembic in /opt/conda/lib/python3.8/site-packages (from mlflow) (1.7.6)\n",
      "Requirement already satisfied: requests>=2.17.3 in /opt/conda/lib/python3.8/site-packages (from mlflow) (2.27.1)\n",
      "Requirement already satisfied: protobuf>=3.7.0 in /opt/conda/lib/python3.8/site-packages (from mlflow) (3.19.4)\n",
      "Requirement already satisfied: pandas in /opt/conda/lib/python3.8/site-packages (from mlflow) (1.4.0)\n",
      "Requirement already satisfied: numpy in /opt/conda/lib/python3.8/site-packages (from mlflow) (1.21.5)\n",
      "Requirement already satisfied: gunicorn in /opt/conda/lib/python3.8/site-packages (from mlflow) (20.1.0)\n",
      "Requirement already satisfied: Flask in /opt/conda/lib/python3.8/site-packages (from mlflow) (2.0.2)\n",
      "Requirement already satisfied: docker>=4.0.0 in /opt/conda/lib/python3.8/site-packages (from mlflow) (5.0.3)\n",
      "Requirement already satisfied: entrypoints in /opt/conda/lib/python3.8/site-packages (from mlflow) (0.3)\n",
      "Requirement already satisfied: sqlparse>=0.3.1 in /opt/conda/lib/python3.8/site-packages (from mlflow) (0.4.2)\n",
      "Requirement already satisfied: pytz in /opt/conda/lib/python3.8/site-packages (from mlflow) (2021.3)\n",
      "Requirement already satisfied: pyyaml>=5.1 in /opt/conda/lib/python3.8/site-packages (from mlflow) (6.0)\n",
      "Requirement already satisfied: querystring-parser in /opt/conda/lib/python3.8/site-packages (from mlflow) (1.2.4)\n",
      "Requirement already satisfied: scipy in /opt/conda/lib/python3.8/site-packages (from mlflow) (1.7.3)\n",
      "Requirement already satisfied: tabulate>=0.7.7 in /opt/conda/lib/python3.8/site-packages (from databricks-cli>=0.8.7->mlflow) (0.8.9)\n",
      "Requirement already satisfied: six>=1.10.0 in /opt/conda/lib/python3.8/site-packages (from databricks-cli>=0.8.7->mlflow) (1.16.0)\n",
      "Requirement already satisfied: websocket-client>=0.32.0 in /opt/conda/lib/python3.8/site-packages (from docker>=4.0.0->mlflow) (1.2.3)\n",
      "Requirement already satisfied: gitdb<5,>=4.0.1 in /opt/conda/lib/python3.8/site-packages (from gitpython>=2.1.0->mlflow) (4.0.9)\n",
      "Requirement already satisfied: typing-extensions>=3.7.4.3 in /opt/conda/lib/python3.8/site-packages (from gitpython>=2.1.0->mlflow) (4.0.1)\n",
      "Requirement already satisfied: zipp>=0.5 in /opt/conda/lib/python3.8/site-packages (from importlib-metadata!=4.7.0,>=3.7.0->mlflow) (3.7.0)\n",
      "Requirement already satisfied: charset-normalizer~=2.0.0 in /opt/conda/lib/python3.8/site-packages (from requests>=2.17.3->mlflow) (2.0.11)\n",
      "Requirement already satisfied: certifi>=2017.4.17 in /opt/conda/lib/python3.8/site-packages (from requests>=2.17.3->mlflow) (2021.10.8)\n",
      "Requirement already satisfied: urllib3<1.27,>=1.21.1 in /opt/conda/lib/python3.8/site-packages (from requests>=2.17.3->mlflow) (1.26.8)\n",
      "Requirement already satisfied: idna<4,>=2.5 in /opt/conda/lib/python3.8/site-packages (from requests>=2.17.3->mlflow) (3.3)\n",
      "Requirement already satisfied: Mako in /opt/conda/lib/python3.8/site-packages (from alembic->mlflow) (1.1.6)\n",
      "Requirement already satisfied: importlib-resources in /opt/conda/lib/python3.8/site-packages (from alembic->mlflow) (5.4.0)\n",
      "Requirement already satisfied: greenlet!=0.4.17 in /opt/conda/lib/python3.8/site-packages (from sqlalchemy->mlflow) (1.1.2)\n",
      "Requirement already satisfied: itsdangerous>=2.0 in /opt/conda/lib/python3.8/site-packages (from Flask->mlflow) (2.0.1)\n",
      "Requirement already satisfied: Werkzeug>=2.0 in /opt/conda/lib/python3.8/site-packages (from Flask->mlflow) (2.0.2)\n",
      "Requirement already satisfied: Jinja2>=3.0 in /opt/conda/lib/python3.8/site-packages (from Flask->mlflow) (3.0.3)\n",
      "Requirement already satisfied: setuptools>=3.0 in /opt/conda/lib/python3.8/site-packages (from gunicorn->mlflow) (60.7.0)\n",
      "Requirement already satisfied: pyparsing!=3.0.5,>=2.0.2 in /opt/conda/lib/python3.8/site-packages (from packaging->mlflow) (3.0.7)\n",
      "Requirement already satisfied: python-dateutil>=2.8.1 in /opt/conda/lib/python3.8/site-packages (from pandas->mlflow) (2.8.2)\n",
      "Requirement already satisfied: prometheus-client in /opt/conda/lib/python3.8/site-packages (from prometheus-flask-exporter->mlflow) (0.13.1)\n",
      "Requirement already satisfied: smmap<6,>=3.0.1 in /opt/conda/lib/python3.8/site-packages (from gitdb<5,>=4.0.1->gitpython>=2.1.0->mlflow) (5.0.0)\n",
      "Requirement already satisfied: MarkupSafe>=2.0 in /opt/conda/lib/python3.8/site-packages (from Jinja2>=3.0->Flask->mlflow) (2.0.1)\n",
      "Requirement already satisfied: BlackBoxAuditing in /opt/conda/lib/python3.8/site-packages (0.1.54)\n",
      "Requirement already satisfied: matplotlib in /opt/conda/lib/python3.8/site-packages (from BlackBoxAuditing) (3.5.1)\n",
      "Requirement already satisfied: numpy in /opt/conda/lib/python3.8/site-packages (from BlackBoxAuditing) (1.21.5)\n",
      "Requirement already satisfied: pandas in /opt/conda/lib/python3.8/site-packages (from BlackBoxAuditing) (1.4.0)\n",
      "Requirement already satisfied: networkx in /opt/conda/lib/python3.8/site-packages (from BlackBoxAuditing) (2.6.3)\n",
      "Requirement already satisfied: kiwisolver>=1.0.1 in /opt/conda/lib/python3.8/site-packages (from matplotlib->BlackBoxAuditing) (1.3.2)\n",
      "Requirement already satisfied: packaging>=20.0 in /opt/conda/lib/python3.8/site-packages (from matplotlib->BlackBoxAuditing) (21.3)\n",
      "Requirement already satisfied: cycler>=0.10 in /opt/conda/lib/python3.8/site-packages (from matplotlib->BlackBoxAuditing) (0.11.0)\n",
      "Requirement already satisfied: python-dateutil>=2.7 in /opt/conda/lib/python3.8/site-packages (from matplotlib->BlackBoxAuditing) (2.8.2)\n",
      "Requirement already satisfied: pillow>=6.2.0 in /opt/conda/lib/python3.8/site-packages (from matplotlib->BlackBoxAuditing) (9.0.1)\n",
      "Requirement already satisfied: fonttools>=4.22.0 in /opt/conda/lib/python3.8/site-packages (from matplotlib->BlackBoxAuditing) (4.29.1)\n",
      "Requirement already satisfied: pyparsing>=2.2.1 in /opt/conda/lib/python3.8/site-packages (from matplotlib->BlackBoxAuditing) (3.0.7)\n",
      "Requirement already satisfied: pytz>=2020.1 in /opt/conda/lib/python3.8/site-packages (from pandas->BlackBoxAuditing) (2021.3)\n",
      "Requirement already satisfied: six>=1.5 in /opt/conda/lib/python3.8/site-packages (from python-dateutil>=2.7->matplotlib->BlackBoxAuditing) (1.16.0)\n",
      "Requirement already satisfied: sklearn in /opt/conda/lib/python3.8/site-packages (0.0)\n",
      "Requirement already satisfied: scikit-learn in /opt/conda/lib/python3.8/site-packages (from sklearn) (1.1.1)\n",
      "Requirement already satisfied: threadpoolctl>=2.0.0 in /opt/conda/lib/python3.8/site-packages (from scikit-learn->sklearn) (3.1.0)\n",
      "Requirement already satisfied: numpy>=1.17.3 in /opt/conda/lib/python3.8/site-packages (from scikit-learn->sklearn) (1.21.5)\n",
      "Requirement already satisfied: scipy>=1.3.2 in /opt/conda/lib/python3.8/site-packages (from scikit-learn->sklearn) (1.7.3)\n",
      "Requirement already satisfied: joblib>=1.0.0 in /opt/conda/lib/python3.8/site-packages (from scikit-learn->sklearn) (1.1.0)\n",
      "Requirement already satisfied: xgboost in /opt/conda/lib/python3.8/site-packages (1.6.1)\n",
      "Requirement already satisfied: numpy in /opt/conda/lib/python3.8/site-packages (from xgboost) (1.21.5)\n",
      "Requirement already satisfied: scipy in /opt/conda/lib/python3.8/site-packages (from xgboost) (1.7.3)\n",
      "Requirement already satisfied: wrapt in /opt/conda/lib/python3.8/site-packages (1.14.1)\n",
      "Requirement already satisfied: fairlearn in /opt/conda/lib/python3.8/site-packages (0.5.0)\n",
      "Requirement already satisfied: scipy>=1.4.1 in /opt/conda/lib/python3.8/site-packages (from fairlearn) (1.7.3)\n",
      "Requirement already satisfied: numpy>=1.17.2 in /opt/conda/lib/python3.8/site-packages (from fairlearn) (1.21.5)\n",
      "Requirement already satisfied: pandas>=0.25.1 in /opt/conda/lib/python3.8/site-packages (from fairlearn) (1.4.0)\n",
      "Requirement already satisfied: scikit-learn>=0.22.1 in /opt/conda/lib/python3.8/site-packages (from fairlearn) (1.1.1)\n",
      "Requirement already satisfied: python-dateutil>=2.8.1 in /opt/conda/lib/python3.8/site-packages (from pandas>=0.25.1->fairlearn) (2.8.2)\n",
      "Requirement already satisfied: pytz>=2020.1 in /opt/conda/lib/python3.8/site-packages (from pandas>=0.25.1->fairlearn) (2021.3)\n",
      "Requirement already satisfied: joblib>=1.0.0 in /opt/conda/lib/python3.8/site-packages (from scikit-learn>=0.22.1->fairlearn) (1.1.0)\n",
      "Requirement already satisfied: threadpoolctl>=2.0.0 in /opt/conda/lib/python3.8/site-packages (from scikit-learn>=0.22.1->fairlearn) (3.1.0)\n",
      "Requirement already satisfied: six>=1.5 in /opt/conda/lib/python3.8/site-packages (from python-dateutil>=2.8.1->pandas>=0.25.1->fairlearn) (1.16.0)\n",
      "Requirement already satisfied: BlackBoxAuditing in /opt/conda/lib/python3.8/site-packages (0.1.54)\n",
      "Requirement already satisfied: matplotlib in /opt/conda/lib/python3.8/site-packages (from BlackBoxAuditing) (3.5.1)\n",
      "Requirement already satisfied: networkx in /opt/conda/lib/python3.8/site-packages (from BlackBoxAuditing) (2.6.3)\n",
      "Requirement already satisfied: pandas in /opt/conda/lib/python3.8/site-packages (from BlackBoxAuditing) (1.4.0)\n",
      "Requirement already satisfied: numpy in /opt/conda/lib/python3.8/site-packages (from BlackBoxAuditing) (1.21.5)\n",
      "Requirement already satisfied: kiwisolver>=1.0.1 in /opt/conda/lib/python3.8/site-packages (from matplotlib->BlackBoxAuditing) (1.3.2)\n",
      "Requirement already satisfied: pillow>=6.2.0 in /opt/conda/lib/python3.8/site-packages (from matplotlib->BlackBoxAuditing) (9.0.1)\n",
      "Requirement already satisfied: cycler>=0.10 in /opt/conda/lib/python3.8/site-packages (from matplotlib->BlackBoxAuditing) (0.11.0)\n",
      "Requirement already satisfied: python-dateutil>=2.7 in /opt/conda/lib/python3.8/site-packages (from matplotlib->BlackBoxAuditing) (2.8.2)\n",
      "Requirement already satisfied: pyparsing>=2.2.1 in /opt/conda/lib/python3.8/site-packages (from matplotlib->BlackBoxAuditing) (3.0.7)\n",
      "Requirement already satisfied: packaging>=20.0 in /opt/conda/lib/python3.8/site-packages (from matplotlib->BlackBoxAuditing) (21.3)\n",
      "Requirement already satisfied: fonttools>=4.22.0 in /opt/conda/lib/python3.8/site-packages (from matplotlib->BlackBoxAuditing) (4.29.1)\n",
      "Requirement already satisfied: pytz>=2020.1 in /opt/conda/lib/python3.8/site-packages (from pandas->BlackBoxAuditing) (2021.3)\n",
      "Requirement already satisfied: six>=1.5 in /opt/conda/lib/python3.8/site-packages (from python-dateutil>=2.7->matplotlib->BlackBoxAuditing) (1.16.0)\n",
      "Requirement already satisfied: lime in /opt/conda/lib/python3.8/site-packages (0.2.0.1)\n",
      "Requirement already satisfied: scipy in /opt/conda/lib/python3.8/site-packages (from lime) (1.7.3)\n",
      "Requirement already satisfied: scikit-image>=0.12 in /opt/conda/lib/python3.8/site-packages (from lime) (0.19.1)\n",
      "Requirement already satisfied: matplotlib in /opt/conda/lib/python3.8/site-packages (from lime) (3.5.1)\n",
      "Requirement already satisfied: numpy in /opt/conda/lib/python3.8/site-packages (from lime) (1.21.5)\n",
      "Requirement already satisfied: scikit-learn>=0.18 in /opt/conda/lib/python3.8/site-packages (from lime) (1.1.1)\n",
      "Requirement already satisfied: tqdm in /opt/conda/lib/python3.8/site-packages (from lime) (4.62.3)\n",
      "Requirement already satisfied: pillow!=7.1.0,!=7.1.1,!=8.3.0,>=6.1.0 in /opt/conda/lib/python3.8/site-packages (from scikit-image>=0.12->lime) (9.0.1)\n",
      "Requirement already satisfied: PyWavelets>=1.1.1 in /opt/conda/lib/python3.8/site-packages (from scikit-image>=0.12->lime) (1.2.0)\n",
      "Requirement already satisfied: packaging>=20.0 in /opt/conda/lib/python3.8/site-packages (from scikit-image>=0.12->lime) (21.3)\n",
      "Requirement already satisfied: imageio>=2.4.1 in /opt/conda/lib/python3.8/site-packages (from scikit-image>=0.12->lime) (2.14.1)\n",
      "Requirement already satisfied: tifffile>=2019.7.26 in /opt/conda/lib/python3.8/site-packages (from scikit-image>=0.12->lime) (2021.11.2)\n",
      "Requirement already satisfied: networkx>=2.2 in /opt/conda/lib/python3.8/site-packages (from scikit-image>=0.12->lime) (2.6.3)\n",
      "Requirement already satisfied: threadpoolctl>=2.0.0 in /opt/conda/lib/python3.8/site-packages (from scikit-learn>=0.18->lime) (3.1.0)\n",
      "Requirement already satisfied: joblib>=1.0.0 in /opt/conda/lib/python3.8/site-packages (from scikit-learn>=0.18->lime) (1.1.0)\n",
      "Requirement already satisfied: fonttools>=4.22.0 in /opt/conda/lib/python3.8/site-packages (from matplotlib->lime) (4.29.1)\n",
      "Requirement already satisfied: pyparsing>=2.2.1 in /opt/conda/lib/python3.8/site-packages (from matplotlib->lime) (3.0.7)\n",
      "Requirement already satisfied: cycler>=0.10 in /opt/conda/lib/python3.8/site-packages (from matplotlib->lime) (0.11.0)\n",
      "Requirement already satisfied: python-dateutil>=2.7 in /opt/conda/lib/python3.8/site-packages (from matplotlib->lime) (2.8.2)\n",
      "Requirement already satisfied: kiwisolver>=1.0.1 in /opt/conda/lib/python3.8/site-packages (from matplotlib->lime) (1.3.2)\n",
      "Requirement already satisfied: six>=1.5 in /opt/conda/lib/python3.8/site-packages (from python-dateutil>=2.7->matplotlib->lime) (1.16.0)\n",
      "Requirement already satisfied: statsmodels in /opt/conda/lib/python3.8/site-packages (0.13.2)\n",
      "Requirement already satisfied: pandas>=0.25 in /opt/conda/lib/python3.8/site-packages (from statsmodels) (1.4.0)\n",
      "Requirement already satisfied: numpy>=1.17 in /opt/conda/lib/python3.8/site-packages (from statsmodels) (1.21.5)\n",
      "Requirement already satisfied: packaging>=21.3 in /opt/conda/lib/python3.8/site-packages (from statsmodels) (21.3)\n",
      "Requirement already satisfied: patsy>=0.5.2 in /opt/conda/lib/python3.8/site-packages (from statsmodels) (0.5.2)\n",
      "Requirement already satisfied: scipy>=1.3 in /opt/conda/lib/python3.8/site-packages (from statsmodels) (1.7.3)\n",
      "Requirement already satisfied: pyparsing!=3.0.5,>=2.0.2 in /opt/conda/lib/python3.8/site-packages (from packaging>=21.3->statsmodels) (3.0.7)\n",
      "Requirement already satisfied: python-dateutil>=2.8.1 in /opt/conda/lib/python3.8/site-packages (from pandas>=0.25->statsmodels) (2.8.2)\n",
      "Requirement already satisfied: pytz>=2020.1 in /opt/conda/lib/python3.8/site-packages (from pandas>=0.25->statsmodels) (2021.3)\n",
      "Requirement already satisfied: six in /opt/conda/lib/python3.8/site-packages (from patsy>=0.5.2->statsmodels) (1.16.0)\n"
     ]
    }
   ],
   "source": [
    "!pip install imblearn\n",
    "!pip install aif360\n",
    "!pip install 'aif360[LFR]'\n",
    "!pip install diffprivlib\n",
    "!pip install tensorflow\n",
    "!pip install fairlearn\n",
    "!pip install minio\n",
    "!pip install mlflow\n",
    "!pip install BlackBoxAuditing\n",
    "!pip install sklearn\n",
    "!pip install xgboost\n",
    "!pip install wrapt\n",
    "!pip install fairlearn\n",
    "!pip install BlackBoxAuditing\n",
    "!pip install lime\n",
    "!pip install statsmodels\n"
   ]
  },
  {
   "cell_type": "code",
   "execution_count": 2,
   "id": "34dfe255",
   "metadata": {},
   "outputs": [
    {
     "name": "stderr",
     "output_type": "stream",
     "text": [
      "2022-07-27 17:09:00.743243: W tensorflow/stream_executor/platform/default/dso_loader.cc:64] Could not load dynamic library 'libcudart.so.11.0'; dlerror: libcudart.so.11.0: cannot open shared object file: No such file or directory\n",
      "2022-07-27 17:09:00.743274: I tensorflow/stream_executor/cuda/cudart_stub.cc:29] Ignore above cudart dlerror if you do not have a GPU set up on your machine.\n",
      "WARNING:root:No module named 'numba.decorators': LFR will be unavailable. To install, run:\n",
      "pip install 'aif360[LFR]'\n"
     ]
    }
   ],
   "source": [
    "%matplotlib inline\n",
    "from IPython.core.interactiveshell import InteractiveShell\n",
    "InteractiveShell.ast_node_interactivity = \"all\"\n",
    "\n",
    "# import libraries\n",
    "import pandas as pd\n",
    "import numpy as np\n",
    "import matplotlib.pyplot as plt\n",
    "import seaborn as sns\n",
    "\n",
    "from tap.trustworthy import mlobject, explain, fairness, robust\n",
    "\n",
    "from sklearn.model_selection import train_test_split\n",
    "from sklearn.ensemble import RandomForestClassifier, GradientBoostingClassifier\n",
    "from sklearn.linear_model import LogisticRegression\n",
    "from sklearn.metrics import accuracy_score\n",
    "from imblearn.over_sampling import SMOTE, RandomOverSampler\n",
    "\n",
    "import warnings\n",
    "warnings.filterwarnings(\"ignore\")"
   ]
  },
  {
   "cell_type": "markdown",
   "id": "9383c2ec",
   "metadata": {},
   "source": [
    "You may now move forward to developing your Final Project\n",
    "\n",
    "---"
   ]
  },
  {
   "cell_type": "markdown",
   "id": "cb9ea53e",
   "metadata": {},
   "source": [
    "# Trustworthy AI: Final Project\n",
    "Complete 100 pts. for credit on course final project and presentation. Parts 1-6 are required."
   ]
  },
  {
   "cell_type": "markdown",
   "id": "3c34d099",
   "metadata": {},
   "source": [
    "Student Name:"
   ]
  },
  {
   "cell_type": "markdown",
   "id": "1895dfd7",
   "metadata": {},
   "source": [
    "## 1. Introduction - 5 pts\n",
    "Brief description of your project. What data are you analyzing, what TAP tools and methods will you be using, and what do you hope to learn/accomplish?"
   ]
  },
  {
   "cell_type": "markdown",
   "id": "c961f96d",
   "metadata": {},
   "source": [
    "- *Write here*"
   ]
  },
  {
   "cell_type": "markdown",
   "id": "720ece99",
   "metadata": {},
   "source": [
    "## 2. Import Data - 10-20pts\n",
    "Use the default HMDA data for 10pts, or find your own data relevant to your project/personal use for 20pts\n",
    "\n",
    "If using your own data, link the dataset and briefly describe it: What does it measure? Who collected it? Where was it accessed from? Why did you choose to use it?"
   ]
  },
  {
   "cell_type": "markdown",
   "id": "74898e5a",
   "metadata": {},
   "source": [
    "- *Describe dataset here*"
   ]
  },
  {
   "cell_type": "code",
   "execution_count": null,
   "id": "0086b769",
   "metadata": {},
   "outputs": [],
   "source": [
    "# CODE HERE"
   ]
  },
  {
   "cell_type": "markdown",
   "id": "29910d27",
   "metadata": {},
   "source": [
    "## 3. Data Cleaning - 10pts\n",
    "\n",
    "Use this space for any cleaning or other pre-processing"
   ]
  },
  {
   "cell_type": "code",
   "execution_count": null,
   "id": "b2dea4b0",
   "metadata": {},
   "outputs": [],
   "source": [
    "# Code Here"
   ]
  },
  {
   "cell_type": "markdown",
   "id": "362a80b6",
   "metadata": {},
   "source": [
    "## 4. Model Development - 10-20pts\n",
    "Use the default tutorial model for 10pts, or load/develop your own model relevant to your project/personal use for 20pts\n",
    "\n",
    "If developing your own model, briefly describe it: What model did you build? Why did you choose it? "
   ]
  },
  {
   "cell_type": "markdown",
   "id": "ad72dd07",
   "metadata": {},
   "source": [
    "- *Describe model here*"
   ]
  },
  {
   "cell_type": "code",
   "execution_count": null,
   "id": "4a56c124",
   "metadata": {},
   "outputs": [],
   "source": [
    "# CODE HERE"
   ]
  },
  {
   "cell_type": "markdown",
   "id": "1bc86019",
   "metadata": {},
   "source": [
    "## 5. TAP Pillar (40 pts)\n",
    "All students must complete Part A, the Robust pillar, as well as one additional pillar of their choice (B. Explainability, C. Fairness, or D. Privacy). Use associated TAP packages to develop results, and be prepared to explain all results and visualizations\n"
   ]
  },
  {
   "cell_type": "markdown",
   "id": "d69af9fa",
   "metadata": {},
   "source": [
    "### A. Robust Pillar - 20pts (Required)\n",
    "Generate Robust performance metrics\n",
    "\n"
   ]
  },
  {
   "cell_type": "code",
   "execution_count": null,
   "id": "02e4e0e8",
   "metadata": {},
   "outputs": [],
   "source": [
    "# CODE HERE"
   ]
  },
  {
   "cell_type": "markdown",
   "id": "60491a94",
   "metadata": {},
   "source": [
    "Write conclusions based on your observation (i.e. describe the results, graphs, etc.)"
   ]
  },
  {
   "cell_type": "markdown",
   "id": "b5de29df",
   "metadata": {},
   "source": [
    "- *Write here*"
   ]
  },
  {
   "cell_type": "markdown",
   "id": "4cbc5c75",
   "metadata": {},
   "source": [
    "### B. Explainability Pillar - 20pts\n",
    "Describe why you chose this pillar - is it most relevant to your dataset/topic? Most personally interesting to you? Some other reason?\n",
    "\n",
    "\n",
    "\n"
   ]
  },
  {
   "cell_type": "markdown",
   "id": "d7750389",
   "metadata": {},
   "source": [
    "- *Write here*"
   ]
  },
  {
   "cell_type": "markdown",
   "id": "67046445",
   "metadata": {},
   "source": [
    "Generate explanations for your model"
   ]
  },
  {
   "cell_type": "code",
   "execution_count": null,
   "id": "47f9bcd6",
   "metadata": {},
   "outputs": [],
   "source": [
    "# CODE HERE"
   ]
  },
  {
   "cell_type": "markdown",
   "id": "0c006dce",
   "metadata": {},
   "source": [
    "Write conclusions based on your observations (i.e. describe the results, graphs, etc.)"
   ]
  },
  {
   "cell_type": "markdown",
   "id": "48d5d319",
   "metadata": {},
   "source": [
    "- *Write here*"
   ]
  },
  {
   "cell_type": "markdown",
   "id": "33367835",
   "metadata": {},
   "source": [
    "### C. Fairness Pillar - 20pts\n",
    "Describe why you chose this pillar - is it most relevant to your dataset/topic? Most personally interesting to you? Some other reason?\n",
    "\n",
    "\n",
    "\n"
   ]
  },
  {
   "cell_type": "markdown",
   "id": "5c8e095b",
   "metadata": {},
   "source": [
    "- *Write here*"
   ]
  },
  {
   "cell_type": "markdown",
   "id": "c3b3e307",
   "metadata": {},
   "source": [
    "Generate Fairness Metrics and/or Bias Mitigation methods"
   ]
  },
  {
   "cell_type": "code",
   "execution_count": null,
   "id": "e1240ccc",
   "metadata": {},
   "outputs": [],
   "source": [
    "# CODE HERE"
   ]
  },
  {
   "cell_type": "markdown",
   "id": "354964fd",
   "metadata": {},
   "source": [
    "Write conclusions based on your observation (i.e. describe the results, graphs, etc.)"
   ]
  },
  {
   "cell_type": "markdown",
   "id": "bd18252f",
   "metadata": {},
   "source": [
    "- *Write here*"
   ]
  },
  {
   "cell_type": "markdown",
   "id": "9b95fc1e",
   "metadata": {},
   "source": [
    "### D. Privacy Pillar - 20pts\n",
    "Describe why you chose this pillar - is it most relevant to your dataset/topic? Most personally interesting to you? Some other reason?\n",
    "\n"
   ]
  },
  {
   "cell_type": "markdown",
   "id": "21e8ba18",
   "metadata": {},
   "source": [
    "- *Write here*"
   ]
  },
  {
   "cell_type": "markdown",
   "id": "7ff20ea7",
   "metadata": {},
   "source": [
    "Demonstrate improvements to data/model privacy\n"
   ]
  },
  {
   "cell_type": "code",
   "execution_count": null,
   "id": "716cae86",
   "metadata": {},
   "outputs": [],
   "source": [
    "# CODE HERE"
   ]
  },
  {
   "cell_type": "markdown",
   "id": "e60cf248",
   "metadata": {},
   "source": [
    "Write conclusions based on your observation"
   ]
  },
  {
   "cell_type": "markdown",
   "id": "fb3ea8bd",
   "metadata": {},
   "source": [
    "- *Write here*"
   ]
  },
  {
   "cell_type": "markdown",
   "id": "5373fdf2",
   "metadata": {},
   "source": [
    "## 6. Reflection/Conclusion - 15pts\n",
    "\n",
    "Write a brief response (1-2 paragraphs) reflecting on the project and course. You may want to answer questions such as: \n",
    "- What was your experience using these methods? \n",
    "- What gaps/limitations did you find? \n",
    "- How would you address these gaps or limitations?\n",
    "- What results surprised you?\n",
    "- What results were you dissapointed by?\n",
    "- How could these methods be used in your client space?\n",
    "- What tools would be most valuable in your day to day life? Why?\n",
    "\n",
    "\n",
    "..."
   ]
  },
  {
   "cell_type": "markdown",
   "id": "fd2d2b4c",
   "metadata": {},
   "source": [
    "- *Write here*"
   ]
  },
  {
   "cell_type": "markdown",
   "id": "3edb0ede",
   "metadata": {},
   "source": [
    "## 7. Additional TAP Method - 10 pts\n",
    "Choose a 3rd TAP pillar not used in part 5, or use a new method not discussed in class (i.e. an explainability tool that is not SHAP or LIME)"
   ]
  },
  {
   "cell_type": "code",
   "execution_count": null,
   "id": "22745d1f",
   "metadata": {},
   "outputs": [],
   "source": [
    "# CODE HERE"
   ]
  },
  {
   "cell_type": "markdown",
   "id": "f1679f45",
   "metadata": {},
   "source": [
    "## 8. Trustworthy AI Regulation - 10 pts\n",
    "\n",
    "Identify an existing or proposed piece of regulation related to your project. Describe the regulation, discuss how your project/research supports the goals of the regulation, and what challenges exist in meeting the regulation’s requirements"
   ]
  },
  {
   "cell_type": "markdown",
   "id": "617e4539",
   "metadata": {},
   "source": [
    "- *Write here*"
   ]
  },
  {
   "cell_type": "code",
   "execution_count": null,
   "id": "2ea56611",
   "metadata": {},
   "outputs": [],
   "source": []
  },
  {
   "cell_type": "code",
   "execution_count": null,
   "id": "1797126b",
   "metadata": {
    "jupyter": {
     "source_hidden": true
    }
   },
   "outputs": [],
   "source": []
  }
 ],
 "metadata": {
  "kernelspec": {
   "display_name": "Python 3 (ipykernel)",
   "language": "python",
   "name": "python3"
  },
  "language_info": {
   "codemirror_mode": {
    "name": "ipython",
    "version": 3
   },
   "file_extension": ".py",
   "mimetype": "text/x-python",
   "name": "python",
   "nbconvert_exporter": "python",
   "pygments_lexer": "ipython3",
   "version": "3.8.6"
  }
 },
 "nbformat": 4,
 "nbformat_minor": 5
}
